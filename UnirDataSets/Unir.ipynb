{
 "cells": [
  {
   "cell_type": "code",
   "execution_count": 2,
   "id": "c0112146-8086-4aa0-8bdb-85f226babeda",
   "metadata": {},
   "outputs": [
    {
     "name": "stdout",
     "output_type": "stream",
     "text": [
      "✅ Archivos unificados en merged.csv\n"
     ]
    }
   ],
   "source": [
    "import pandas as pd\n",
    "\n",
    "# Lista de archivos de entrada (reemplaza estos nombres por los tuyos)\n",
    "input_files = [\n",
    "    'Nigerian_Fraud.csv',\n",
    "    'Ling.csv',\n",
    "    'CEAS_08.csv',\n",
    "    'Enron.csv'\n",
    "]\n",
    "\n",
    "# Columnas que queremos conservar\n",
    "required_cols = ['subject', 'body', 'label']\n",
    "\n",
    "# Lista para ir acumulando DataFrames\n",
    "dfs = []\n",
    "\n",
    "for filepath in input_files:\n",
    "    # Leemos solo las columnas que existan de las requeridas\n",
    "    try:\n",
    "        df = pd.read_csv(filepath, usecols=lambda c: c in required_cols)\n",
    "    except FileNotFoundError:\n",
    "        print(f\"¡Atención! No se encontró el archivo: {filepath}\")\n",
    "        continue\n",
    "\n",
    "    # Asegurarnos de que todas las columnas requeridas existan\n",
    "    for col in required_cols:\n",
    "        if col not in df.columns:\n",
    "            df[col] = pd.NA\n",
    "\n",
    "    # Reordenar para que queden en el orden deseado\n",
    "    df = df[required_cols]\n",
    "\n",
    "    # Añadimos columna indicando el origen\n",
    "    df['source_file'] = filepath\n",
    "\n",
    "    dfs.append(df)\n",
    "\n",
    "# Concatenamos todo en uno solo\n",
    "if dfs:\n",
    "    merged_df = pd.concat(dfs, ignore_index=True)\n",
    "    # Guardamos el resultado\n",
    "    merged_df.to_csv('merged.csv', index=False)\n",
    "    print(\"✅ Archivos unificados en merged.csv\")\n",
    "else:\n",
    "    print(\"❌ No se procesó ningún archivo. Revisa los nombres en input_files.\")\n"
   ]
  },
  {
   "cell_type": "code",
   "execution_count": null,
   "id": "c02b94a7-7a52-4e5d-805c-1d1c9020450d",
   "metadata": {},
   "outputs": [],
   "source": []
  }
 ],
 "metadata": {
  "kernelspec": {
   "display_name": "Python 3 (ipykernel)",
   "language": "python",
   "name": "python3"
  },
  "language_info": {
   "codemirror_mode": {
    "name": "ipython",
    "version": 3
   },
   "file_extension": ".py",
   "mimetype": "text/x-python",
   "name": "python",
   "nbconvert_exporter": "python",
   "pygments_lexer": "ipython3",
   "version": "3.12.3"
  }
 },
 "nbformat": 4,
 "nbformat_minor": 5
}
